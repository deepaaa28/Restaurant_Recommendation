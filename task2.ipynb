{
 "cells": [
  {
   "cell_type": "code",
   "execution_count": 9,
   "id": "3de35a3c-63d6-44e6-b1d1-1848fe400dc6",
   "metadata": {},
   "outputs": [
    {
     "name": "stdout",
     "output_type": "stream",
     "text": [
      "RESTAURANT RECOMMENDER SYSTEM\n",
      "Dataset is loaded\n",
      "\n",
      "Top Recommended Restaurants:\n",
      "\n",
      "     Restaurant Name  Locality                       Cuisines  Average Cost for two    Votes  Aggregate rating\n",
      "    Virgin Courtyard  Sector 7                        Italian              0.002750 0.074721               4.4\n",
      "       Cafe Parmesan Sector 15                        Italian              0.001250 0.073075               4.5\n",
      "             Rooftop Pitampura North Indian, Chinese, Italian              0.000750 0.002195               3.3\n",
      "  Boheme Bar & Grill     Saket North Indian, Chinese, Italian              0.001625 0.010792               3.3\n",
      "The Pasta Bar Veneto   MG Road                        Italian              0.001125 0.025151               3.6\n"
     ]
    }
   ],
   "source": [
    "import pandas as pd\n",
    "import numpy as np\n",
    "from sklearn.preprocessing import MinMaxScaler\n",
    "from sklearn.feature_extraction.text import TfidfVectorizer\n",
    "from sklearn.metrics.pairwise import cosine_similarity\n",
    "from scipy.sparse import hstack\n",
    "from scipy.sparse import csr_matrix\n",
    "\n",
    "print(\"RESTAURANT RECOMMENDER SYSTEM\")\n",
    "\n",
    "\n",
    "df = pd.read_csv(\"D:\\\\intern\\\\Dataset .csv\")\n",
    "df = df.dropna()\n",
    "print(\"Dataset is loaded\")\n",
    "\n",
    "\n",
    "df[\"Combined_Text\"] = df[\"Locality\"].astype(str) + \" \" + df[\"Cuisines\"].astype(str)\n",
    "\n",
    "\n",
    "tfidf = TfidfVectorizer(stop_words='english')\n",
    "text_vectors = tfidf.fit_transform(df[\"Combined_Text\"])\n",
    "\n",
    "\n",
    "scaler = MinMaxScaler()\n",
    "df[[\"Average Cost for two\", \"Votes\"]] = scaler.fit_transform(df[[\"Average Cost for two\", \"Votes\"]])\n",
    "\n",
    "\n",
    "features = hstack([text_vectors, \n",
    "                   df[[\"Average Cost for two\", \"Votes\"]].values])\n",
    "\n",
    "\n",
    "def recommend_restaurants(user_input_text, user_cost, user_votes, top_n=5):\n",
    "    user_text_vec = tfidf.transform([user_input_text])\n",
    "    user_df = pd.DataFrame([[user_cost, user_votes]], columns=[\"Average Cost for two\", \"Votes\"])\n",
    "    user_scaled = scaler.transform(user_df)\n",
    "    user_scaled_sparse = csr_matrix(user_scaled)\n",
    "    user_vec = hstack([user_text_vec, user_scaled_sparse])\n",
    "    \n",
    "    similarity = cosine_similarity(user_vec, features).flatten()\n",
    "    indices = similarity.argsort()[::-1][:top_n]\n",
    "    \n",
    "    return df.iloc[indices][[\"Restaurant Name\", \"Locality\", \"Cuisines\", \"Average Cost for two\", \"Votes\", \"Aggregate rating\"]]\n",
    "\n",
    "\n",
    "user_pref = \"Kormangala Italian\"\n",
    "preferred_cost = 800\n",
    "preferred_votes = 300\n",
    "\n",
    "recommendations = recommend_restaurants(user_pref, preferred_cost, preferred_votes)\n",
    "\n",
    "print(\"\\nTop Recommended Restaurants:\\n\")\n",
    "print(recommendations.to_string(index=False))"
   ]
  },
  {
   "cell_type": "code",
   "execution_count": null,
   "id": "c11e76f8-8f11-4a8a-85d5-7df542d47abb",
   "metadata": {},
   "outputs": [],
   "source": []
  }
 ],
 "metadata": {
  "kernelspec": {
   "display_name": "Python [conda env:base] *",
   "language": "python",
   "name": "conda-base-py"
  },
  "language_info": {
   "codemirror_mode": {
    "name": "ipython",
    "version": 3
   },
   "file_extension": ".py",
   "mimetype": "text/x-python",
   "name": "python",
   "nbconvert_exporter": "python",
   "pygments_lexer": "ipython3",
   "version": "3.13.5"
  }
 },
 "nbformat": 4,
 "nbformat_minor": 5
}
